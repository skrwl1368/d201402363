{
 "cells": [
  {
   "cell_type": "code",
   "execution_count": 7,
   "metadata": {},
   "outputs": [],
   "source": [
    "import os\n",
    "import cv2 \n",
    "import numpy as np"
   ]
  },
  {
   "cell_type": "code",
   "execution_count": 8,
   "metadata": {},
   "outputs": [],
   "source": [
    "# def change_png(imgPath):\n",
    "#     try:\n",
    "#          # gif 처리\n",
    "#         if str(imgPath).lower().endswith('.gif'):\n",
    "#             gif = cv2.VideoCapture(imgPath)\n",
    "#             ret, frame = gif.read()  # ret=True if it finds a frame else False.\n",
    "#             if ret:\n",
    "#                 return frame\n",
    "#         else:\n",
    "#             return cv2.imread(imgPath)\n",
    "#     except Exception as e:\n",
    "#         print(e)\n",
    "#         return None"
   ]
  },
  {
   "cell_type": "code",
   "execution_count": 9,
   "metadata": {},
   "outputs": [],
   "source": [
    "def find_balcony(str_name):\n",
    "    \n",
    "    img_color = cv2.imread(str_name)\n",
    "    height, width = img_color.shape[:2]\n",
    "    img_hsv = cv2.cvtColor(img_color, cv2.COLOR_BGR2HSV)\n",
    "    \n",
    "    lower_green = (50-20, 30, 30)\n",
    "    upper_green = (50+20, 255, 255)\n",
    "\n",
    "    img_mask = cv2.inRange(img_hsv, lower_green, upper_green)\n",
    "    img_result = cv2.bitwise_and(img_color, img_color, mask = img_mask)\n",
    "    img_result_gray = cv2.cvtColor(img_result, cv2.COLOR_HSV2BGR)\n",
    "    img_result_gray = cv2.cvtColor(img_result_gray, cv2.COLOR_BGR2GRAY)\n",
    "    \n",
    "    balcony_num = 0\n",
    "    isBalcony = 0\n",
    "    img_Balcony = np.zeros((height, width))\n",
    "    plane_map_dict = {'balcony' : 0, 'room': 0}\n",
    "\n",
    "    for row in range(height):\n",
    "        for col in range(width):\n",
    "            if img_result_gray[row][col] >70 :\n",
    "                isBalcony = 1\n",
    "                img_Balcony[row][col] = isBalcony\n",
    "    return img_result"
   ]
  },
  {
   "cell_type": "code",
   "execution_count": 10,
   "metadata": {},
   "outputs": [],
   "source": [
    "def setLabel(img, pts, label):\n",
    "    (x,y,w,h) = cv2.boundingRect(pts)\n",
    "    pt1 = (x,y)\n",
    "    pt2 = (x+w, y+h)\n",
    "    cv2.rectangle(img, pt1, pt2, (0, 255, 0), 2)\n",
    "    cv2.putText(img, label, (pt1[0], pt1[1]-3), cv2.FONT_HERSHEY_SIMPLEX, 0.7, (0, 0, 255))   "
   ]
  },
  {
   "cell_type": "code",
   "execution_count": 34,
   "metadata": {},
   "outputs": [],
   "source": [
    "def count_balcony(str_name):\n",
    "    count = 0\n",
    "    img = str_name\n",
    "    gray = cv2.cvtColor(img, cv2.COLOR_BGR2GRAY)\n",
    "\n",
    "    ret, thr = cv2.threshold(gray, 0, 255, cv2.THRESH_OTSU)\n",
    "    contours, _ = cv2.findContours(thr, cv2.RETR_EXTERNAL, cv2.CHAIN_APPROX_NONE)\n",
    "\n",
    "    for cont in contours:\n",
    "        approx = cv2.approxPolyDP(cont, cv2.arcLength(cont, True)* 0.02, True)\n",
    "        vtc = len(approx)\n",
    "    \n",
    "        if vtc > 3:\n",
    "            setLabel(img, cont, 'balcony')\n",
    "            count = count + 1\n",
    "            \n",
    "    cv2.imshow('count_balcony', img)           \n",
    "    \n",
    "    return count\n",
    "        \n"
   ]
  },
  {
   "cell_type": "code",
   "execution_count": 35,
   "metadata": {
    "scrolled": false
   },
   "outputs": [],
   "source": [
    "# count_balcony_list = []\n",
    "# for a in range(len(fname)):\n",
    "#     count_balcony_list.append(count_balcony(fname[a]))"
   ]
  },
  {
   "cell_type": "code",
   "execution_count": 36,
   "metadata": {},
   "outputs": [],
   "source": [
    "# count_balcony_list"
   ]
  },
  {
   "cell_type": "code",
   "execution_count": 37,
   "metadata": {},
   "outputs": [],
   "source": [
    "# import pandas as pd\n",
    "\n",
    "# df=pd.read_csv('map_info.csv')\n",
    "# df.loc[:, \"count_balcony\"] = pd.Series(count_balcony_list)\n",
    "\n",
    "# data2.to_csv('final_map_info.csv',header=False, index=False, mode='a')"
   ]
  },
  {
   "cell_type": "code",
   "execution_count": 38,
   "metadata": {},
   "outputs": [
    {
     "data": {
      "text/plain": [
       "0"
      ]
     },
     "execution_count": 38,
     "metadata": {},
     "output_type": "execute_result"
    }
   ],
   "source": [
    "# str_a = '0001.png'\n",
    "img_test = cv2.imread('image0002.png')\n",
    "# 적당한 이미지 넣어서 실행\n",
    "cv2.startWindowThread()"
   ]
  },
  {
   "cell_type": "code",
   "execution_count": 39,
   "metadata": {},
   "outputs": [],
   "source": [
    "cv2.imshow('aniginal', img_test)\n",
    "\n",
    "cv2.waitKey(0)\n",
    "cv2.destroyAllWindows()"
   ]
  },
  {
   "cell_type": "code",
   "execution_count": 40,
   "metadata": {},
   "outputs": [],
   "source": [
    "find = find_balcony('image0002.png')\n",
    "cv2.imshow('find_balcony', find)\n",
    "cv2.waitKey(0)\n",
    "cv2.destroyAllWindows()"
   ]
  },
  {
   "cell_type": "code",
   "execution_count": null,
   "metadata": {},
   "outputs": [],
   "source": [
    "count_balcony(find)\n",
    "cv2.waitKey(0)\n",
    "cv2.destroyAllWindows()"
   ]
  },
  {
   "cell_type": "code",
   "execution_count": null,
   "metadata": {},
   "outputs": [],
   "source": []
  }
 ],
 "metadata": {
  "kernelspec": {
   "display_name": "Python 3",
   "language": "python",
   "name": "python3"
  },
  "language_info": {
   "codemirror_mode": {
    "name": "ipython",
    "version": 3
   },
   "file_extension": ".py",
   "mimetype": "text/x-python",
   "name": "python",
   "nbconvert_exporter": "python",
   "pygments_lexer": "ipython3",
   "version": "3.7.4"
  }
 },
 "nbformat": 4,
 "nbformat_minor": 2
}
